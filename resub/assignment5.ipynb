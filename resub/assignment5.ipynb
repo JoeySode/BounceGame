{
  "nbformat": 4,
  "nbformat_minor": 0,
  "metadata": {
    "colab": {
      "provenance": [],
      "include_colab_link": true
    },
    "kernelspec": {
      "name": "python3",
      "display_name": "Python 3"
    },
    "language_info": {
      "name": "python"
    }
  },
  "cells": [
    {
      "cell_type": "markdown",
      "metadata": {
        "id": "view-in-github",
        "colab_type": "text"
      },
      "source": [
        "<a href=\"https://colab.research.google.com/github/JoeySode/BounceGame/blob/master/resub/assignment5.ipynb\" target=\"_parent\"><img src=\"https://colab.research.google.com/assets/colab-badge.svg\" alt=\"Open In Colab\"/></a>"
      ]
    },
    {
      "cell_type": "code",
      "source": [
        "\n",
        "#TIY 1\n",
        "pizzas = [\"pepperoni\", \"margherita\", \"white\"]\n",
        "\n",
        "for pizza in pizzas:\n",
        "  print(f\"I like {pizza} pizza\")\n",
        "\n",
        "print(\"I love pizza\")"
      ],
      "metadata": {
        "id": "up9aNzOpvCY7"
      },
      "execution_count": null,
      "outputs": []
    },
    {
      "cell_type": "code",
      "source": [
        "#TIY 2\n",
        "animals = [\"dog\", \"cat\", \"rabbit\"]\n",
        "\n",
        "for animal in animals:\n",
        "  print(f\"A {animal} is a good pet\")\n",
        "\n",
        "print(\"Any of these animals are common pets\")"
      ],
      "metadata": {
        "id": "a63BPEQlwk5J"
      },
      "execution_count": null,
      "outputs": []
    },
    {
      "cell_type": "code",
      "source": [
        "#TIY 3\n",
        "for number in range(1, 21):\n",
        "  print(number)"
      ],
      "metadata": {
        "id": "GW1WiwODwjao"
      },
      "execution_count": null,
      "outputs": []
    },
    {
      "cell_type": "code",
      "source": [
        "#TIY 4\n",
        "numbers = list(range(1, 1000001))\n",
        "\n",
        "for number in numbers:\n",
        "  print(number)"
      ],
      "metadata": {
        "id": "IVlEwauxwWj_"
      },
      "execution_count": null,
      "outputs": []
    },
    {
      "cell_type": "code",
      "source": [
        "#TIY 5\n",
        "numbers = list(range(1, 1000001))\n",
        "\n",
        "print(min(numbers))\n",
        "print(max(numbers))\n",
        "print(sum(numbers))"
      ],
      "metadata": {
        "id": "CjvcvXAkwaBT"
      },
      "execution_count": null,
      "outputs": []
    },
    {
      "cell_type": "code",
      "source": [
        "#TIY 6\n",
        "odd_numbers = list(range(1, 21, 2))\n",
        "\n",
        "for number in odd_numbers:\n",
        "  print(number)"
      ],
      "metadata": {
        "id": "FK6myuXRwUoR"
      },
      "execution_count": null,
      "outputs": []
    },
    {
      "cell_type": "code",
      "source": [
        "#TIY 7\n",
        "threes = list(range(3, 31, 3))\n",
        "\n",
        "for number in threes:\n",
        "  print(number)"
      ],
      "metadata": {
        "id": "C7vmA1y4wTr1"
      },
      "execution_count": null,
      "outputs": []
    },
    {
      "cell_type": "code",
      "source": [
        "#TIY 8\n",
        "cubes = []\n",
        "\n",
        "for number in range(1, 11):\n",
        "  cubes.append(number ** 3)\n",
        "\n",
        "for cube in cubes:\n",
        "  print(cube)"
      ],
      "metadata": {
        "id": "yBTT8ByjwSUp"
      },
      "execution_count": null,
      "outputs": []
    },
    {
      "cell_type": "code",
      "source": [
        "#TIY 9\n",
        "cubes = [number ** 3 for number in range(1, 11)]\n",
        "\n",
        "for cube in cubes:\n",
        "  print(cube)"
      ],
      "metadata": {
        "id": "I-sPBbhfwQ_d"
      },
      "execution_count": null,
      "outputs": []
    },
    {
      "cell_type": "code",
      "source": [
        "#TIY 10\n",
        "print(\"The first three items in the list are:\")\n",
        "print(pizzas[:3])\n",
        "print(\"Three items from the middle of the list are:\")\n",
        "print(pizzas[1:4])\n",
        "print(\"The last three items in the list are:\")\n",
        "print(pizzas[-3:])"
      ],
      "metadata": {
        "id": "toiwHB83wNLb"
      },
      "execution_count": null,
      "outputs": []
    },
    {
      "cell_type": "code",
      "source": [
        "#TIY 11\n",
        "friend_pizzas = pizzas[:]\n",
        "pizzas.append(\"hawaiian\")\n",
        "friend_pizzas.append(\"veggie\")\n",
        "\n",
        "print(\"My favorite pizzas are:\")\n",
        "\n",
        "for pizza in pizzas:\n",
        "  print(pizza)\n",
        "  print(\"My friend's favorite pizzas are:\")\n",
        "\n",
        "for pizza in friend_pizzas:\n",
        "  print(pizza)"
      ],
      "metadata": {
        "id": "xDCwxspYwL1h"
      },
      "execution_count": null,
      "outputs": []
    },
    {
      "cell_type": "code",
      "source": [
        "#TIY 12\n",
        "my_foods = [\"pizza\", \"ice-cream\", \"cake\"]\n",
        "friend_foods = my_foods[:]\n",
        "my_foods.append(\"cookies\")\n",
        "friend_foods.append(\"ice cream\")\n",
        "\n",
        "print(\"My favorite foods are:\")\n",
        "for food in my_foods:\n",
        "  print(food)\n",
        "\n",
        "print(\"My friend's favorite foods are:\")\n",
        "for food in friend_foods:\n",
        "  print(food)"
      ],
      "metadata": {
        "id": "hu6rWyEjwJC5"
      },
      "execution_count": null,
      "outputs": []
    },
    {
      "cell_type": "code",
      "source": [
        "#TIY 13\n",
        "foods = (\"pasta\", \"salad\", \"bread\", \"soup\", \"fruit\")\n",
        "\n",
        "for food in foods:\n",
        "  print(food)"
      ],
      "metadata": {
        "id": "vOXem0HVwHue"
      },
      "execution_count": null,
      "outputs": []
    },
    {
      "cell_type": "code",
      "source": [
        "#Part 2\n",
        "def factorial(n):\n",
        "  nums = list(range(1, n + 1))\n",
        "\n",
        "  result = 1\n",
        "\n",
        "  for num in nums:\n",
        "    result *= num\n",
        "\n",
        "  return result\n",
        "\n",
        "print(factorial(2), factorial(5))\n",
        "\n",
        "def special_factorial(n):\n",
        "  nums = list(range(1, n + 1))\n",
        "\n",
        "  for i, num in enumerate(nums):\n",
        "    if num == 4 or num == 13 or num == 22:\n",
        "      nums.pop(i)\n",
        "\n",
        "  result = 1\n",
        "\n",
        "  for num in nums:\n",
        "    result *= num\n",
        "\n",
        "  return result\n",
        "\n",
        "print(special_factorial(5))\n",
        "print(special_factorial(10))\n",
        "print(special_factorial(20))\n",
        "print(special_factorial(50))"
      ],
      "metadata": {
        "colab": {
          "base_uri": "https://localhost:8080/"
        },
        "id": "L-v6GtO5xE2N",
        "outputId": "9a4a5c40-0988-4e52-ba5e-b9f5f525eb33"
      },
      "execution_count": 4,
      "outputs": [
        {
          "output_type": "stream",
          "name": "stdout",
          "text": [
            "2 120\n",
            "30\n",
            "907200\n",
            "46786577080320000\n",
            "26585745805693512275885146998308364374455980392448000000000000\n"
          ]
        }
      ]
    }
  ]
}